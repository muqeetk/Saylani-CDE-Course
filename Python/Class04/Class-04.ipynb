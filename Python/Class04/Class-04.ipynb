{
 "cells": [
  {
   "cell_type": "code",
   "execution_count": 1,
   "id": "f53428cb-fa57-4bb6-a23d-1f9b8f8ff7ae",
   "metadata": {},
   "outputs": [],
   "source": [
    "# List"
   ]
  },
  {
   "cell_type": "code",
   "execution_count": 2,
   "id": "1425fca2-e858-4d9d-b8b5-508f94687a03",
   "metadata": {},
   "outputs": [],
   "source": [
    " city_0 = \"Atlanta\"\n",
    " city_1 = \"Baltimore\"\n",
    " city_2 = \"Chicago\"\n",
    " city_3 = \"Denver\"\n",
    " city_4 = \"Los Angeles\"\n",
    " city_5 = \"Seattle\""
   ]
  },
  {
   "cell_type": "code",
   "execution_count": 4,
   "id": "03c5edd1-5fec-4505-9b63-33640bbd2623",
   "metadata": {},
   "outputs": [
    {
     "data": {
      "text/plain": [
       "(2420120273136, 2420120259056)"
      ]
     },
     "execution_count": 4,
     "metadata": {},
     "output_type": "execute_result"
    }
   ],
   "source": [
    "id(city_0), id(city_1)"
   ]
  },
  {
   "cell_type": "code",
   "execution_count": 5,
   "id": "d8eca752-bf50-4b14-a956-8bf540e0d2cd",
   "metadata": {},
   "outputs": [],
   "source": [
    "# managing collection of valuew\n",
    "# slower\n",
    "# Solution : Data Structure For Cllection Of Values :: LIST"
   ]
  },
  {
   "cell_type": "code",
   "execution_count": 7,
   "id": "7250c8b7-b729-41b2-9285-e6971b855803",
   "metadata": {},
   "outputs": [],
   "source": [
    "cities = [\"Atlanta\", \"Baltimore\", \"Chicago\", \"Denver\", \"Los Angeles\", \"Seattle\"]"
   ]
  },
  {
   "cell_type": "code",
   "execution_count": 9,
   "id": "ea1528d3-feed-4c28-8843-c35e715167ee",
   "metadata": {},
   "outputs": [
    {
     "name": "stdout",
     "output_type": "stream",
     "text": [
      "<class 'list'> 2420123040640\n"
     ]
    }
   ],
   "source": [
    "print (type (cities), id(cities))"
   ]
  },
  {
   "cell_type": "code",
   "execution_count": 10,
   "id": "2d149d37-2b15-41d1-91ed-9006295f2628",
   "metadata": {},
   "outputs": [],
   "source": [
    "# list Method Use Any 4"
   ]
  },
  {
   "cell_type": "code",
   "execution_count": 11,
   "id": "f1a918a2-cf11-4856-8563-b1a66c9a0b83",
   "metadata": {},
   "outputs": [],
   "source": [
    "cities.append(\"karachi\")"
   ]
  },
  {
   "cell_type": "code",
   "execution_count": 12,
   "id": "84f9a1ff-5f06-4dc4-b95b-21b7edb4bc92",
   "metadata": {},
   "outputs": [
    {
     "data": {
      "text/plain": [
       "['Atlanta',\n",
       " 'Baltimore',\n",
       " 'Chicago',\n",
       " 'Denver',\n",
       " 'Los Angeles',\n",
       " 'Seattle',\n",
       " 'karachi']"
      ]
     },
     "execution_count": 12,
     "metadata": {},
     "output_type": "execute_result"
    }
   ],
   "source": [
    "cities"
   ]
  },
  {
   "cell_type": "code",
   "execution_count": 13,
   "id": "ba5ad683-c95f-446f-916a-df9802117ab7",
   "metadata": {},
   "outputs": [
    {
     "data": {
      "text/plain": [
       "1"
      ]
     },
     "execution_count": 13,
     "metadata": {},
     "output_type": "execute_result"
    }
   ],
   "source": [
    "cities.count(\"Chicago\")"
   ]
  },
  {
   "cell_type": "code",
   "execution_count": 14,
   "id": "780a6e55-a886-4b35-b20c-a10b65aa7ff3",
   "metadata": {},
   "outputs": [],
   "source": [
    "cities.extend([\"Islamabad\", \"lahore\"])"
   ]
  },
  {
   "cell_type": "code",
   "execution_count": 15,
   "id": "93a0fe1f-127e-4199-aec8-3aa39b3cc8bf",
   "metadata": {},
   "outputs": [
    {
     "data": {
      "text/plain": [
       "['Atlanta',\n",
       " 'Baltimore',\n",
       " 'Chicago',\n",
       " 'Denver',\n",
       " 'Los Angeles',\n",
       " 'Seattle',\n",
       " 'karachi',\n",
       " 'Islamabad',\n",
       " 'lahore']"
      ]
     },
     "execution_count": 15,
     "metadata": {},
     "output_type": "execute_result"
    }
   ],
   "source": [
    "cities"
   ]
  },
  {
   "cell_type": "code",
   "execution_count": 16,
   "id": "45a9cf5a-914d-402f-9e4e-ce7a514894cf",
   "metadata": {},
   "outputs": [],
   "source": [
    "cities.insert(1, \"punjab\")"
   ]
  },
  {
   "cell_type": "code",
   "execution_count": 17,
   "id": "6319054f-1f23-4e36-8bfe-8f4d4886cbb5",
   "metadata": {},
   "outputs": [
    {
     "data": {
      "text/plain": [
       "['Atlanta',\n",
       " 'punjab',\n",
       " 'Baltimore',\n",
       " 'Chicago',\n",
       " 'Denver',\n",
       " 'Los Angeles',\n",
       " 'Seattle',\n",
       " 'karachi',\n",
       " 'Islamabad',\n",
       " 'lahore']"
      ]
     },
     "execution_count": 17,
     "metadata": {},
     "output_type": "execute_result"
    }
   ],
   "source": [
    "cities"
   ]
  },
  {
   "cell_type": "code",
   "execution_count": 19,
   "id": "53cbf674-fb2d-400e-a4ba-9faf2bc7c2b7",
   "metadata": {},
   "outputs": [
    {
     "data": {
      "text/plain": [
       "1"
      ]
     },
     "execution_count": 19,
     "metadata": {},
     "output_type": "execute_result"
    }
   ],
   "source": [
    "cities.index(\"punjab\")"
   ]
  },
  {
   "cell_type": "code",
   "execution_count": 20,
   "id": "e78ef0bc-e40d-4067-b965-13b96e243f56",
   "metadata": {},
   "outputs": [
    {
     "data": {
      "text/plain": [
       "'lahore'"
      ]
     },
     "execution_count": 20,
     "metadata": {},
     "output_type": "execute_result"
    }
   ],
   "source": [
    "cities.pop() #Remove and return item at index (default last)."
   ]
  },
  {
   "cell_type": "code",
   "execution_count": 21,
   "id": "4808287c-c838-4ac9-92c0-49015c0ae1af",
   "metadata": {},
   "outputs": [
    {
     "data": {
      "text/plain": [
       "['Atlanta',\n",
       " 'punjab',\n",
       " 'Baltimore',\n",
       " 'Chicago',\n",
       " 'Denver',\n",
       " 'Los Angeles',\n",
       " 'Seattle',\n",
       " 'karachi',\n",
       " 'Islamabad']"
      ]
     },
     "execution_count": 21,
     "metadata": {},
     "output_type": "execute_result"
    }
   ],
   "source": [
    "cities"
   ]
  },
  {
   "cell_type": "code",
   "execution_count": 23,
   "id": "12273cfb-724b-4959-8b57-89baad9d65fe",
   "metadata": {},
   "outputs": [],
   "source": [
    "cities.append(\"Karachi\")"
   ]
  },
  {
   "cell_type": "code",
   "execution_count": 24,
   "id": "39cd7330-e568-41fe-afcf-ca497f605a2d",
   "metadata": {},
   "outputs": [
    {
     "data": {
      "text/plain": [
       "['Atlanta',\n",
       " 'punjab',\n",
       " 'Baltimore',\n",
       " 'Chicago',\n",
       " 'Denver',\n",
       " 'Los Angeles',\n",
       " 'Seattle',\n",
       " 'karachi',\n",
       " 'Islamabad',\n",
       " 'Karachi']"
      ]
     },
     "execution_count": 24,
     "metadata": {},
     "output_type": "execute_result"
    }
   ],
   "source": [
    "cities"
   ]
  },
  {
   "cell_type": "code",
   "execution_count": 25,
   "id": "c1e56f32-1055-48a1-8461-2a5bfe70b9a1",
   "metadata": {},
   "outputs": [],
   "source": [
    "cities.remove(\"karachi\") #Remove first occurrence of value."
   ]
  },
  {
   "cell_type": "code",
   "execution_count": 26,
   "id": "ea1baea0-6337-439a-a887-5db540108c1d",
   "metadata": {},
   "outputs": [
    {
     "data": {
      "text/plain": [
       "['Atlanta',\n",
       " 'punjab',\n",
       " 'Baltimore',\n",
       " 'Chicago',\n",
       " 'Denver',\n",
       " 'Los Angeles',\n",
       " 'Seattle',\n",
       " 'Islamabad',\n",
       " 'Karachi']"
      ]
     },
     "execution_count": 26,
     "metadata": {},
     "output_type": "execute_result"
    }
   ],
   "source": [
    "cities"
   ]
  },
  {
   "cell_type": "code",
   "execution_count": 27,
   "id": "5d35f2b7-f788-4203-81f1-ef1ac8ffd525",
   "metadata": {},
   "outputs": [],
   "source": [
    "cities.reverse() #Reverse *IN PLACE*."
   ]
  },
  {
   "cell_type": "code",
   "execution_count": 28,
   "id": "62306795-dfac-426c-bd06-5a9ccf08d1df",
   "metadata": {},
   "outputs": [
    {
     "data": {
      "text/plain": [
       "['Karachi',\n",
       " 'Islamabad',\n",
       " 'Seattle',\n",
       " 'Los Angeles',\n",
       " 'Denver',\n",
       " 'Chicago',\n",
       " 'Baltimore',\n",
       " 'punjab',\n",
       " 'Atlanta']"
      ]
     },
     "execution_count": 28,
     "metadata": {},
     "output_type": "execute_result"
    }
   ],
   "source": [
    "cities"
   ]
  },
  {
   "cell_type": "code",
   "execution_count": 29,
   "id": "4a462d99-861f-4629-81b5-bf22d178d20b",
   "metadata": {},
   "outputs": [],
   "source": [
    "cities.sort()"
   ]
  },
  {
   "cell_type": "code",
   "execution_count": 30,
   "id": "14cdede4-679b-4fb0-a454-fd6a9979f325",
   "metadata": {},
   "outputs": [
    {
     "data": {
      "text/plain": [
       "['Atlanta',\n",
       " 'Baltimore',\n",
       " 'Chicago',\n",
       " 'Denver',\n",
       " 'Islamabad',\n",
       " 'Karachi',\n",
       " 'Los Angeles',\n",
       " 'Seattle',\n",
       " 'punjab']"
      ]
     },
     "execution_count": 30,
     "metadata": {},
     "output_type": "execute_result"
    }
   ],
   "source": [
    "cities"
   ]
  },
  {
   "cell_type": "code",
   "execution_count": 31,
   "id": "393e0399-737c-4626-b93f-b4dc8d4d9e38",
   "metadata": {},
   "outputs": [],
   "source": [
    "cities.clear() #Remove all items from list."
   ]
  },
  {
   "cell_type": "code",
   "execution_count": 32,
   "id": "90d30353-97d6-4464-a1bc-d80f02bd6740",
   "metadata": {},
   "outputs": [
    {
     "data": {
      "text/plain": [
       "[]"
      ]
     },
     "execution_count": 32,
     "metadata": {},
     "output_type": "execute_result"
    }
   ],
   "source": [
    "cities"
   ]
  },
  {
   "cell_type": "code",
   "execution_count": null,
   "id": "95c1c3ab-2607-4217-8755-c2af73cdb08c",
   "metadata": {},
   "outputs": [],
   "source": [
    "# shallow // deep copy"
   ]
  },
  {
   "cell_type": "code",
   "execution_count": null,
   "id": "1d07b4c9-4e20-47d9-92f1-5b1533221351",
   "metadata": {},
   "outputs": [],
   "source": []
  },
  {
   "cell_type": "code",
   "execution_count": 35,
   "id": "da4b92b8-121c-4615-8e09-0a19af0eb1ab",
   "metadata": {},
   "outputs": [],
   "source": [
    "cities_new = [\"Atlanta\", \"Baltimore\", \"Chicago\", \"Denver\", \"Los Angeles\", \"Seattle\"]"
   ]
  },
  {
   "cell_type": "code",
   "execution_count": 47,
   "id": "8b951d39-88c3-42d0-960f-72274d823f27",
   "metadata": {},
   "outputs": [
    {
     "data": {
      "text/plain": [
       "['Atlanta',\n",
       " 'Baltimore',\n",
       " 'america',\n",
       " 'Denver',\n",
       " 'Los Angeles',\n",
       " 'Seattle',\n",
       " 'Lahori']"
      ]
     },
     "execution_count": 47,
     "metadata": {},
     "output_type": "execute_result"
    }
   ],
   "source": [
    "cities_new"
   ]
  },
  {
   "cell_type": "code",
   "execution_count": 49,
   "id": "9e9a2a0a-ba5e-40b7-9bb9-b6c97f578aa9",
   "metadata": {},
   "outputs": [
    {
     "data": {
      "text/plain": [
       "['Atlanta',\n",
       " 'Baltimore',\n",
       " 'america',\n",
       " 'Denver',\n",
       " 'Los Angeles',\n",
       " 'Seattle',\n",
       " 'Lahori']"
      ]
     },
     "execution_count": 49,
     "metadata": {},
     "output_type": "execute_result"
    }
   ],
   "source": [
    "cities_new.copy()"
   ]
  },
  {
   "cell_type": "code",
   "execution_count": 37,
   "id": "6c80e671-a2d6-4ea4-931f-31be00578f3d",
   "metadata": {},
   "outputs": [
    {
     "name": "stdout",
     "output_type": "stream",
     "text": [
      "<class 'list'> 2420145686144\n"
     ]
    }
   ],
   "source": [
    "print(type(cities_new), id(cities_new))"
   ]
  },
  {
   "cell_type": "code",
   "execution_count": 39,
   "id": "8e4c4a07-73ca-4514-a44d-73050d183dfb",
   "metadata": {},
   "outputs": [
    {
     "name": "stdout",
     "output_type": "stream",
     "text": [
      "<class 'list'> 2420123040640\n"
     ]
    }
   ],
   "source": [
    "print(type(cities), id(cities))"
   ]
  },
  {
   "cell_type": "code",
   "execution_count": 40,
   "id": "5cfeec84-b5af-40e8-aa32-e9d372784910",
   "metadata": {},
   "outputs": [],
   "source": [
    "cities_new.append(\"Lahori\")"
   ]
  },
  {
   "cell_type": "code",
   "execution_count": 41,
   "id": "fbb8e9b9-3074-424a-8de1-9f5fc18f3371",
   "metadata": {},
   "outputs": [
    {
     "data": {
      "text/plain": [
       "['Atlanta',\n",
       " 'Baltimore',\n",
       " 'Chicago',\n",
       " 'Denver',\n",
       " 'Los Angeles',\n",
       " 'Seattle',\n",
       " 'Lahori']"
      ]
     },
     "execution_count": 41,
     "metadata": {},
     "output_type": "execute_result"
    }
   ],
   "source": [
    "cities_new"
   ]
  },
  {
   "cell_type": "code",
   "execution_count": 42,
   "id": "80960f0f-ab24-4714-a96e-5a8308b64aa4",
   "metadata": {},
   "outputs": [
    {
     "data": {
      "text/plain": [
       "[]"
      ]
     },
     "execution_count": 42,
     "metadata": {},
     "output_type": "execute_result"
    }
   ],
   "source": [
    "cities"
   ]
  },
  {
   "cell_type": "code",
   "execution_count": 38,
   "id": "9a7327d1-f83a-4a52-a381-948492abc2b9",
   "metadata": {},
   "outputs": [],
   "source": [
    "## Tasks\n",
    "# Implement Deep Copy Concept On List \n",
    "# Adding Value At Different Index Without Method"
   ]
  },
  {
   "cell_type": "code",
   "execution_count": 44,
   "id": "f6b07b4f-bfcd-4408-9587-62cdc3068275",
   "metadata": {},
   "outputs": [],
   "source": [
    "# Adding Value At Different Index Without Method\n",
    "\n",
    "cities_new[2]=\"america\""
   ]
  },
  {
   "cell_type": "code",
   "execution_count": 46,
   "id": "7ffc91e8-9c4b-4f1f-a06c-f65754ad740e",
   "metadata": {},
   "outputs": [
    {
     "data": {
      "text/plain": [
       "['Atlanta',\n",
       " 'Baltimore',\n",
       " 'america',\n",
       " 'Denver',\n",
       " 'Los Angeles',\n",
       " 'Seattle',\n",
       " 'Lahori']"
      ]
     },
     "execution_count": 46,
     "metadata": {},
     "output_type": "execute_result"
    }
   ],
   "source": [
    "cities_new"
   ]
  },
  {
   "cell_type": "code",
   "execution_count": null,
   "id": "b4697b2f-e582-4da9-a3a6-59904d5ab988",
   "metadata": {},
   "outputs": [],
   "source": []
  },
  {
   "cell_type": "code",
   "execution_count": null,
   "id": "a1412ebc-c0bb-44be-a286-16f649d40756",
   "metadata": {},
   "outputs": [],
   "source": []
  },
  {
   "cell_type": "code",
   "execution_count": 50,
   "id": "40e28cfa-9c5a-4b4f-be87-e84c57273b0c",
   "metadata": {},
   "outputs": [],
   "source": [
    "# Slicing"
   ]
  },
  {
   "cell_type": "code",
   "execution_count": 51,
   "id": "7b5063b9-5575-4fe7-b96c-1f911a227c5a",
   "metadata": {},
   "outputs": [
    {
     "data": {
      "text/plain": [
       "['Atlanta',\n",
       " 'Baltimore',\n",
       " 'america',\n",
       " 'Denver',\n",
       " 'Los Angeles',\n",
       " 'Seattle',\n",
       " 'Lahori']"
      ]
     },
     "execution_count": 51,
     "metadata": {},
     "output_type": "execute_result"
    }
   ],
   "source": [
    "cities_new"
   ]
  },
  {
   "cell_type": "code",
   "execution_count": 54,
   "id": "81810e3a-cfa0-4cff-817c-3eaacdf6956a",
   "metadata": {},
   "outputs": [
    {
     "data": {
      "text/plain": [
       "['Atlanta', 'Baltimore', 'america', 'Denver', 'Los Angeles']"
      ]
     },
     "execution_count": 54,
     "metadata": {},
     "output_type": "execute_result"
    }
   ],
   "source": [
    "cities_new[:5] # First Include And Last Not Include"
   ]
  },
  {
   "cell_type": "code",
   "execution_count": 55,
   "id": "226e5fbd-721c-4e8d-a4bf-a5dbc7757131",
   "metadata": {},
   "outputs": [
    {
     "data": {
      "text/plain": [
       "['america', 'Denver', 'Los Angeles']"
      ]
     },
     "execution_count": 55,
     "metadata": {},
     "output_type": "execute_result"
    }
   ],
   "source": [
    "cities_new[2:5]"
   ]
  },
  {
   "cell_type": "code",
   "execution_count": 56,
   "id": "f434aacf-7aec-4859-a42e-04ce8f754b52",
   "metadata": {},
   "outputs": [
    {
     "data": {
      "text/plain": [
       "['america', 'Denver', 'Los Angeles', 'Seattle', 'Lahori']"
      ]
     },
     "execution_count": 56,
     "metadata": {},
     "output_type": "execute_result"
    }
   ],
   "source": [
    "cities_new[2:]"
   ]
  },
  {
   "cell_type": "code",
   "execution_count": 57,
   "id": "eef5963d-a1af-4738-8b8e-caad475406f1",
   "metadata": {},
   "outputs": [
    {
     "data": {
      "text/plain": [
       "['Lahori',\n",
       " 'Seattle',\n",
       " 'Los Angeles',\n",
       " 'Denver',\n",
       " 'america',\n",
       " 'Baltimore',\n",
       " 'Atlanta']"
      ]
     },
     "execution_count": 57,
     "metadata": {},
     "output_type": "execute_result"
    }
   ],
   "source": [
    "cities_new[::-1] # Reverse Method"
   ]
  },
  {
   "cell_type": "code",
   "execution_count": 58,
   "id": "d3563da9-5b10-4123-acd7-fadc9ad9b1cf",
   "metadata": {},
   "outputs": [],
   "source": [
    "# Tast : Create a student list of names and apply all methods"
   ]
  },
  {
   "cell_type": "code",
   "execution_count": 59,
   "id": "8bee7a54-0e9f-4b11-9da4-188cea8b1e5c",
   "metadata": {},
   "outputs": [],
   "source": [
    "student = [\"moheed\", \"noman\", \"khizar\", \"furqan\", \"ahmed\"]"
   ]
  },
  {
   "cell_type": "code",
   "execution_count": 60,
   "id": "283d0ad0-7074-427c-96e5-4e23ca0a7e1d",
   "metadata": {},
   "outputs": [
    {
     "data": {
      "text/plain": [
       "['moheed', 'noman', 'khizar', 'furqan', 'ahmed']"
      ]
     },
     "execution_count": 60,
     "metadata": {},
     "output_type": "execute_result"
    }
   ],
   "source": [
    "student"
   ]
  },
  {
   "cell_type": "code",
   "execution_count": 61,
   "id": "1d86c8ad-df85-4cca-ba4f-8ccdd0b33763",
   "metadata": {},
   "outputs": [],
   "source": [
    "student.append(\"aqib\")"
   ]
  },
  {
   "cell_type": "code",
   "execution_count": 62,
   "id": "2964f23e-ea4a-4078-9818-31d84901a3cb",
   "metadata": {},
   "outputs": [
    {
     "data": {
      "text/plain": [
       "['moheed', 'noman', 'khizar', 'furqan', 'ahmed', 'aqib']"
      ]
     },
     "execution_count": 62,
     "metadata": {},
     "output_type": "execute_result"
    }
   ],
   "source": [
    "student"
   ]
  },
  {
   "cell_type": "code",
   "execution_count": 63,
   "id": "c9d68805-a389-450d-be62-6ffb3059d300",
   "metadata": {},
   "outputs": [
    {
     "data": {
      "text/plain": [
       "1"
      ]
     },
     "execution_count": 63,
     "metadata": {},
     "output_type": "execute_result"
    }
   ],
   "source": [
    "student.count(\"ahmed\")"
   ]
  },
  {
   "cell_type": "code",
   "execution_count": 66,
   "id": "4ea8792b-f75c-4926-8444-272073a43013",
   "metadata": {},
   "outputs": [],
   "source": [
    "student.extend([\"waqas\", \"zahid\"])"
   ]
  },
  {
   "cell_type": "code",
   "execution_count": 67,
   "id": "f62ead17-4577-468f-9070-e870e6ffe09b",
   "metadata": {},
   "outputs": [
    {
     "data": {
      "text/plain": [
       "['moheed', 'noman', 'khizar', 'furqan', 'ahmed', 'aqib', 'waqas', 'zahid']"
      ]
     },
     "execution_count": 67,
     "metadata": {},
     "output_type": "execute_result"
    }
   ],
   "source": [
    "student"
   ]
  },
  {
   "cell_type": "code",
   "execution_count": 69,
   "id": "60d65144-6d52-49e5-9fbf-8a43c57589b0",
   "metadata": {},
   "outputs": [
    {
     "data": {
      "text/plain": [
       "3"
      ]
     },
     "execution_count": 69,
     "metadata": {},
     "output_type": "execute_result"
    }
   ],
   "source": [
    "student.index(\"furqan\")"
   ]
  },
  {
   "cell_type": "code",
   "execution_count": 79,
   "id": "f5b4d9b5-a907-4dec-8bf6-45795f8db3cf",
   "metadata": {},
   "outputs": [],
   "source": [
    "student.insert(4, \"raheel\")"
   ]
  },
  {
   "cell_type": "code",
   "execution_count": 71,
   "id": "2acae7f6-f7f8-45ea-926a-f51e67b3c25a",
   "metadata": {},
   "outputs": [
    {
     "data": {
      "text/plain": [
       "['moheed',\n",
       " 'noman',\n",
       " 'khizar',\n",
       " 'furqan',\n",
       " 'raheel',\n",
       " 'ahmed',\n",
       " 'aqib',\n",
       " 'waqas',\n",
       " 'zahid']"
      ]
     },
     "execution_count": 71,
     "metadata": {},
     "output_type": "execute_result"
    }
   ],
   "source": [
    "student"
   ]
  },
  {
   "cell_type": "code",
   "execution_count": 73,
   "id": "c3173e59-ff0b-43b5-baf8-6ce65e0e6131",
   "metadata": {},
   "outputs": [
    {
     "data": {
      "text/plain": [
       "'moheed'"
      ]
     },
     "execution_count": 73,
     "metadata": {},
     "output_type": "execute_result"
    }
   ],
   "source": [
    "student.pop(0)"
   ]
  },
  {
   "cell_type": "code",
   "execution_count": 74,
   "id": "d05965cd-d550-4d44-a875-4ec5798b04b6",
   "metadata": {},
   "outputs": [],
   "source": [
    "student.remove(\"zahid\")"
   ]
  },
  {
   "cell_type": "code",
   "execution_count": 75,
   "id": "c3dcad82-aa4f-4a00-b280-027752a31f26",
   "metadata": {},
   "outputs": [
    {
     "data": {
      "text/plain": [
       "['noman', 'khizar', 'furqan', 'raheel', 'ahmed', 'aqib', 'waqas']"
      ]
     },
     "execution_count": 75,
     "metadata": {},
     "output_type": "execute_result"
    }
   ],
   "source": [
    "student"
   ]
  },
  {
   "cell_type": "code",
   "execution_count": 77,
   "id": "1a0747bd-7839-47ff-ae12-25cc027ad16a",
   "metadata": {},
   "outputs": [],
   "source": [
    "student.reverse()"
   ]
  },
  {
   "cell_type": "code",
   "execution_count": 80,
   "id": "c318f695-0404-4c76-a295-c7e70e83321f",
   "metadata": {},
   "outputs": [
    {
     "data": {
      "text/plain": [
       "['waqas', 'aqib', 'ahmed', 'raheel', 'raheel', 'furqan', 'khizar', 'noman']"
      ]
     },
     "execution_count": 80,
     "metadata": {},
     "output_type": "execute_result"
    }
   ],
   "source": [
    "student"
   ]
  },
  {
   "cell_type": "code",
   "execution_count": 81,
   "id": "4b3e49e0-1e6f-4b4a-9464-4256f18fb075",
   "metadata": {},
   "outputs": [],
   "source": [
    "student.sort()"
   ]
  },
  {
   "cell_type": "code",
   "execution_count": 82,
   "id": "5e4f26fe-39e2-4001-853a-3996145c56ad",
   "metadata": {},
   "outputs": [
    {
     "data": {
      "text/plain": [
       "['ahmed', 'aqib', 'furqan', 'khizar', 'noman', 'raheel', 'raheel', 'waqas']"
      ]
     },
     "execution_count": 82,
     "metadata": {},
     "output_type": "execute_result"
    }
   ],
   "source": [
    "student"
   ]
  },
  {
   "cell_type": "code",
   "execution_count": 86,
   "id": "550c3f18-65bd-4449-9341-692a713b62cb",
   "metadata": {},
   "outputs": [],
   "source": [
    "names = student.copy()"
   ]
  },
  {
   "cell_type": "code",
   "execution_count": 88,
   "id": "e53c3598-a16d-48cd-839b-7feaab785329",
   "metadata": {},
   "outputs": [
    {
     "data": {
      "text/plain": [
       "(list, 2420121705408)"
      ]
     },
     "execution_count": 88,
     "metadata": {},
     "output_type": "execute_result"
    }
   ],
   "source": [
    "type(names), id(names)"
   ]
  },
  {
   "cell_type": "code",
   "execution_count": 89,
   "id": "803dd64d-854b-4263-b242-34e44af97a74",
   "metadata": {},
   "outputs": [],
   "source": [
    "names = student"
   ]
  },
  {
   "cell_type": "code",
   "execution_count": 90,
   "id": "d057e719-0f8a-4995-9492-5e7be149712d",
   "metadata": {},
   "outputs": [
    {
     "data": {
      "text/plain": [
       "(list, 2420145834624)"
      ]
     },
     "execution_count": 90,
     "metadata": {},
     "output_type": "execute_result"
    }
   ],
   "source": [
    "type(names), id(names)"
   ]
  },
  {
   "cell_type": "code",
   "execution_count": 91,
   "id": "b770e57e-b593-4f22-afa4-b1d7b1d933e9",
   "metadata": {},
   "outputs": [
    {
     "data": {
      "text/plain": [
       "(list, 2420145834624)"
      ]
     },
     "execution_count": 91,
     "metadata": {},
     "output_type": "execute_result"
    }
   ],
   "source": [
    "type(student), id(student)"
   ]
  },
  {
   "cell_type": "code",
   "execution_count": 92,
   "id": "92b8dd81-e096-4d0d-b524-d64644888264",
   "metadata": {},
   "outputs": [
    {
     "data": {
      "text/plain": [
       "(['ahmed', 'aqib', 'furqan', 'khizar', 'noman', 'raheel', 'raheel', 'waqas'],\n",
       " ['ahmed', 'aqib', 'furqan', 'khizar', 'noman', 'raheel', 'raheel', 'waqas'])"
      ]
     },
     "execution_count": 92,
     "metadata": {},
     "output_type": "execute_result"
    }
   ],
   "source": [
    "names, student"
   ]
  },
  {
   "cell_type": "code",
   "execution_count": 105,
   "id": "b321fd93-52db-44b3-83c0-06446531c521",
   "metadata": {},
   "outputs": [
    {
     "name": "stdout",
     "output_type": "stream",
     "text": [
      "2420147569088\n",
      "2420147553088\n"
     ]
    }
   ],
   "source": [
    "# Implement Shallow Copy Concept On List \n",
    "cities=['karachi','lahore']\n",
    "cities_2= ['karachi','lahore']\n",
    "print (id(cities))\n",
    "print(id(cities_2))      "
   ]
  },
  {
   "cell_type": "code",
   "execution_count": 103,
   "id": "136d1601-29ae-41f7-97ed-848f8b4c8dcf",
   "metadata": {},
   "outputs": [
    {
     "name": "stdout",
     "output_type": "stream",
     "text": [
      "2420147573248\n",
      "2420147573248\n"
     ]
    }
   ],
   "source": [
    "# Implement Deep Copy Concept On List\n",
    "cities=['karachi','lahore']\n",
    "cities2= cities\n",
    "print (id(cities))\n",
    "print(id(cities2))"
   ]
  },
  {
   "cell_type": "code",
   "execution_count": 106,
   "id": "e05dc910-83a1-491c-b0b6-12116ceb8077",
   "metadata": {},
   "outputs": [],
   "source": [
    "# Adding Value At Different Index Without Method\n"
   ]
  },
  {
   "cell_type": "code",
   "execution_count": 107,
   "id": "54adcee3-e18f-45b1-923c-66873f2de11c",
   "metadata": {},
   "outputs": [
    {
     "data": {
      "text/plain": [
       "['ahmed', 'aqib', 'furqan', 'khizar', 'noman', 'raheel', 'raheel', 'waqas']"
      ]
     },
     "execution_count": 107,
     "metadata": {},
     "output_type": "execute_result"
    }
   ],
   "source": [
    "student"
   ]
  },
  {
   "cell_type": "code",
   "execution_count": 108,
   "id": "7d1e6c9b-eb58-489b-a6b1-497a6c4474b5",
   "metadata": {},
   "outputs": [],
   "source": [
    "del student [1]"
   ]
  },
  {
   "cell_type": "code",
   "execution_count": 109,
   "id": "1bf7cf9e-f012-42df-b40a-86de9ebe774b",
   "metadata": {},
   "outputs": [
    {
     "data": {
      "text/plain": [
       "['ahmed', 'furqan', 'khizar', 'noman', 'raheel', 'raheel', 'waqas']"
      ]
     },
     "execution_count": 109,
     "metadata": {},
     "output_type": "execute_result"
    }
   ],
   "source": [
    "student"
   ]
  },
  {
   "cell_type": "code",
   "execution_count": 111,
   "id": "3b1736a7-8c0c-434c-987e-614926801e5f",
   "metadata": {},
   "outputs": [],
   "source": [
    "student.reverse()"
   ]
  },
  {
   "cell_type": "code",
   "execution_count": 112,
   "id": "6ae7a542-89ef-42db-b12d-b4a9b1749c16",
   "metadata": {},
   "outputs": [
    {
     "data": {
      "text/plain": [
       "['waqas', 'raheel', 'raheel', 'noman', 'khizar', 'furqan', 'ahmed']"
      ]
     },
     "execution_count": 112,
     "metadata": {},
     "output_type": "execute_result"
    }
   ],
   "source": [
    "student"
   ]
  },
  {
   "cell_type": "code",
   "execution_count": 113,
   "id": "74b0dba5-05c3-4833-95e3-7870efa6ff3a",
   "metadata": {},
   "outputs": [
    {
     "data": {
      "text/plain": [
       "7"
      ]
     },
     "execution_count": 113,
     "metadata": {},
     "output_type": "execute_result"
    }
   ],
   "source": [
    "len(student)"
   ]
  },
  {
   "cell_type": "code",
   "execution_count": 119,
   "id": "30c3ebb1-4a1e-460e-8d70-c53c03e3aec9",
   "metadata": {},
   "outputs": [],
   "source": [
    "# Tuples immutable"
   ]
  },
  {
   "cell_type": "code",
   "execution_count": 127,
   "id": "6fd4f3fa-6148-4e5b-8810-a36a4448ffaa",
   "metadata": {},
   "outputs": [],
   "source": [
    "student.append(\"muqeet\")"
   ]
  },
  {
   "cell_type": "code",
   "execution_count": 128,
   "id": "979d39f5-471f-4aa6-bf0c-138eaf9681ea",
   "metadata": {},
   "outputs": [
    {
     "data": {
      "text/plain": [
       "('waqas',\n",
       " 'raheel',\n",
       " 'raheel',\n",
       " 'noman',\n",
       " 'khizar',\n",
       " 'furqan',\n",
       " 'ahmed',\n",
       " 'muqeet',\n",
       " 'muqeet')"
      ]
     },
     "execution_count": 128,
     "metadata": {},
     "output_type": "execute_result"
    }
   ],
   "source": [
    "tuple(student)"
   ]
  },
  {
   "cell_type": "code",
   "execution_count": 130,
   "id": "e60d5ac8-cdbb-44ff-8956-ba72f820c171",
   "metadata": {},
   "outputs": [],
   "source": [
    "students = tuple(student)"
   ]
  },
  {
   "cell_type": "code",
   "execution_count": 131,
   "id": "7abfbde8-48e8-4b78-b6b7-27a2373fdfac",
   "metadata": {},
   "outputs": [
    {
     "data": {
      "text/plain": [
       "('waqas',\n",
       " 'raheel',\n",
       " 'raheel',\n",
       " 'noman',\n",
       " 'khizar',\n",
       " 'furqan',\n",
       " 'ahmed',\n",
       " 'muqeet',\n",
       " 'muqeet')"
      ]
     },
     "execution_count": 131,
     "metadata": {},
     "output_type": "execute_result"
    }
   ],
   "source": [
    "students"
   ]
  },
  {
   "cell_type": "code",
   "execution_count": 132,
   "id": "23901d14-9cd2-4530-a07e-ea5582794ab7",
   "metadata": {},
   "outputs": [
    {
     "ename": "TypeError",
     "evalue": "'tuple' object does not support item assignment",
     "output_type": "error",
     "traceback": [
      "\u001b[1;31m---------------------------------------------------------------------------\u001b[0m",
      "\u001b[1;31mTypeError\u001b[0m                                 Traceback (most recent call last)",
      "Cell \u001b[1;32mIn[132], line 1\u001b[0m\n\u001b[1;32m----> 1\u001b[0m students[\u001b[38;5;241m1\u001b[39m] \u001b[38;5;241m=\u001b[39m \u001b[38;5;124m\"\u001b[39m\u001b[38;5;124mkhanzada\u001b[39m\u001b[38;5;124m\"\u001b[39m\n",
      "\u001b[1;31mTypeError\u001b[0m: 'tuple' object does not support item assignment"
     ]
    }
   ],
   "source": [
    "students[1] = \"khanzada\""
   ]
  },
  {
   "cell_type": "code",
   "execution_count": 133,
   "id": "dd4833a3-462c-4bb8-8b43-18c387f93772",
   "metadata": {},
   "outputs": [
    {
     "data": {
      "text/plain": [
       "2"
      ]
     },
     "execution_count": 133,
     "metadata": {},
     "output_type": "execute_result"
    }
   ],
   "source": [
    "students.count(\"muqeet\")"
   ]
  },
  {
   "cell_type": "code",
   "execution_count": 134,
   "id": "7a1b1717-f636-4802-a850-0945c07eb4ba",
   "metadata": {},
   "outputs": [],
   "source": [
    "# Sets"
   ]
  },
  {
   "cell_type": "code",
   "execution_count": 135,
   "id": "82737900-388e-4ebe-b6b7-62456c6e10ca",
   "metadata": {},
   "outputs": [],
   "source": [
    "own_name=[\"Muqeet\", \"Muqeet\", \"aiwithmuqeet\"]"
   ]
  },
  {
   "cell_type": "code",
   "execution_count": 136,
   "id": "4071fbed-2bba-41b2-ab98-2a8e174fcef8",
   "metadata": {},
   "outputs": [],
   "source": [
    "name_set = set(own_name)"
   ]
  },
  {
   "cell_type": "code",
   "execution_count": 138,
   "id": "3d51def3-ab02-4184-80b3-bdb3c457a8b9",
   "metadata": {},
   "outputs": [
    {
     "data": {
      "text/plain": [
       "{'Muqeet', 'aiwithmuqeet'}"
      ]
     },
     "execution_count": 138,
     "metadata": {},
     "output_type": "execute_result"
    }
   ],
   "source": [
    "name_set"
   ]
  },
  {
   "cell_type": "code",
   "execution_count": 140,
   "id": "b1ad3190-7aed-494a-909d-d0bb35a87b54",
   "metadata": {},
   "outputs": [],
   "source": [
    "set_A = {\"a\" , \"b\"}\n",
    "set_B = {\"c\" , \"d\"}\n",
    "universel_set = {\"a\" , \"b\" , \"c\" , \"d\"}"
   ]
  },
  {
   "cell_type": "code",
   "execution_count": 148,
   "id": "995ce6b3-0265-412c-adc5-78cac3eb4ef8",
   "metadata": {},
   "outputs": [],
   "source": [
    "players=['ahmed', 'aqib', 'furqan', 'khizar', 'noman' , 'raheel', 'waqas','aqib']\n",
    "players_set= (set(players))\n",
    " \n"
   ]
  },
  {
   "cell_type": "code",
   "execution_count": 150,
   "id": "2da91a2e-e5f7-4177-aa2a-5af3f3cedf56",
   "metadata": {},
   "outputs": [
    {
     "name": "stdout",
     "output_type": "stream",
     "text": [
      "{'raheel', 'noman', 'waqas', 'khizar', 'ali', 'furqan', 'aqib', 'ahmed'}\n"
     ]
    }
   ],
   "source": [
    "players_set.add('ali')\n",
    "print (players_set)"
   ]
  },
  {
   "cell_type": "code",
   "execution_count": null,
   "id": "cbf1a0c7-7c6b-4c36-b8e1-81ea4fbaa8da",
   "metadata": {},
   "outputs": [],
   "source": []
  },
  {
   "cell_type": "code",
   "execution_count": null,
   "id": "523cdf02-aa17-4ebb-8f35-a689f5d1d828",
   "metadata": {},
   "outputs": [],
   "source": []
  }
 ],
 "metadata": {
  "kernelspec": {
   "display_name": "Python 3 (ipykernel)",
   "language": "python",
   "name": "python3"
  },
  "language_info": {
   "codemirror_mode": {
    "name": "ipython",
    "version": 3
   },
   "file_extension": ".py",
   "mimetype": "text/x-python",
   "name": "python",
   "nbconvert_exporter": "python",
   "pygments_lexer": "ipython3",
   "version": "3.13.5"
  }
 },
 "nbformat": 4,
 "nbformat_minor": 5
}
