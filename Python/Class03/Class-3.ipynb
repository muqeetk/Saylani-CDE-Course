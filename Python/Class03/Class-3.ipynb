{
 "cells": [
  {
   "cell_type": "markdown",
   "id": "ad1261da-c2e5-4d8b-a70f-6e4c97e99c5a",
   "metadata": {},
   "source": [
    "# Concatenation"
   ]
  },
  {
   "cell_type": "code",
   "execution_count": 2,
   "id": "ad462838-e3ab-4927-b037-e850cd6a4a0e",
   "metadata": {},
   "outputs": [],
   "source": [
    "# METHOD ( Using + Operator)\n",
    "# METHOD ( Using f-String )\n",
    "# METHOD ( Using .format )"
   ]
  },
  {
   "cell_type": "code",
   "execution_count": 4,
   "id": "317cf493-6b8f-4702-9819-7b3f52914e4f",
   "metadata": {},
   "outputs": [],
   "source": [
    "str1 = \"Sunlo\"\n",
    "str2 = \"Dehan Se..\""
   ]
  },
  {
   "cell_type": "code",
   "execution_count": 5,
   "id": "6f8484d4-711f-467f-9ffe-efad07c2bceb",
   "metadata": {},
   "outputs": [
    {
     "data": {
      "text/plain": [
       "'Sunlo Dehan Se..'"
      ]
     },
     "execution_count": 5,
     "metadata": {},
     "output_type": "execute_result"
    }
   ],
   "source": [
    "str1 + \" \" + str2 #Method-1"
   ]
  },
  {
   "cell_type": "code",
   "execution_count": 7,
   "id": "dd75c933-b62c-4696-88d4-e71ab6447b88",
   "metadata": {},
   "outputs": [
    {
     "data": {
      "text/plain": [
       "' axha meri btSunlo Dehan Se.. ok'"
      ]
     },
     "execution_count": 7,
     "metadata": {},
     "output_type": "execute_result"
    }
   ],
   "source": [
    "f\" axha meri bt{str1} {str2} ok\" # Method-2"
   ]
  },
  {
   "cell_type": "code",
   "execution_count": 9,
   "id": "db986e0f-57e5-425f-9cec-89554bcbe5fb",
   "metadata": {},
   "outputs": [
    {
     "data": {
      "text/plain": [
       "'axha meri bt Sunlo Dehan Se.. ok'"
      ]
     },
     "execution_count": 9,
     "metadata": {},
     "output_type": "execute_result"
    }
   ],
   "source": [
    "\"axha meri bt {0} {1} ok\".format (str1, str2) # Method-3"
   ]
  },
  {
   "cell_type": "markdown",
   "id": "2ac945f4-3c5d-4bc4-a40b-e500524bc606",
   "metadata": {},
   "source": [
    "# Assigment"
   ]
  },
  {
   "cell_type": "code",
   "execution_count": 11,
   "id": "b401efbd-f6b4-4998-9cd4-193942bb0ca3",
   "metadata": {},
   "outputs": [],
   "source": [
    "# Q- Create a string using all formating methods that print your first name and last name with some extra "
   ]
  },
  {
   "cell_type": "code",
   "execution_count": 33,
   "id": "164f9e79-89cf-4d72-9293-f53a2c519d7e",
   "metadata": {},
   "outputs": [],
   "source": [
    "f_name = \"Muhammad\"\n",
    "m_name = \"Muqeet\"\n",
    "l_name = \"Khan\""
   ]
  },
  {
   "cell_type": "code",
   "execution_count": 29,
   "id": "0798b29e-8a07-40df-a9b8-e8f222b6d649",
   "metadata": {},
   "outputs": [],
   "source": [
    "# Method 1"
   ]
  },
  {
   "cell_type": "code",
   "execution_count": 35,
   "id": "32e283ad-c13b-4245-8260-5c8b79fb1310",
   "metadata": {},
   "outputs": [
    {
     "name": "stdout",
     "output_type": "stream",
     "text": [
      "My Name Is Muhammad Mid Name Is Muqeet last Name Is Khan\n"
     ]
    }
   ],
   "source": [
    "print(\"My Name Is \" + f_name + \" \" + \"Mid Name Is \" + m_name + \" \" +\"last Name Is \" +l_name)"
   ]
  },
  {
   "cell_type": "code",
   "execution_count": 31,
   "id": "f0f063c1-cee5-4526-b362-30605016ba86",
   "metadata": {},
   "outputs": [],
   "source": [
    "# Method 2"
   ]
  },
  {
   "cell_type": "code",
   "execution_count": 36,
   "id": "d1e5b2ed-e320-421f-bfca-a2708b72885f",
   "metadata": {},
   "outputs": [
    {
     "name": "stdout",
     "output_type": "stream",
     "text": [
      "My First Name Is Muhammad Mid Name Is MuqeetMy Last Name Is Khan\n"
     ]
    }
   ],
   "source": [
    "print (f\"My First Name Is {f_name} Mid Name Is {m_name}My Last Name Is {l_name}\")"
   ]
  },
  {
   "cell_type": "code",
   "execution_count": 37,
   "id": "d9f1bf47-742e-43f9-8977-47e72bed380b",
   "metadata": {},
   "outputs": [],
   "source": [
    "# Method 3"
   ]
  },
  {
   "cell_type": "code",
   "execution_count": 38,
   "id": "94a3b657-fe00-4578-a380-e0fa0a898e8f",
   "metadata": {},
   "outputs": [
    {
     "name": "stdout",
     "output_type": "stream",
     "text": [
      "My First Name Is Muhammad My Mid Name Is MuqeetAnd My Last Name Is Khan\n"
     ]
    }
   ],
   "source": [
    "print (\"My First Name Is {0} My Mid Name Is {1}And My Last Name Is {2}\".format(f_name, m_name, l_name))"
   ]
  },
  {
   "cell_type": "markdown",
   "id": "7e92cdf2-3afe-40f9-988e-a14a4808cc40",
   "metadata": {},
   "source": [
    "# User Input"
   ]
  },
  {
   "cell_type": "code",
   "execution_count": 39,
   "id": "39e285da-b79e-4559-8a82-466fcf47da11",
   "metadata": {},
   "outputs": [
    {
     "name": "stdin",
     "output_type": "stream",
     "text": [
      " Entre Your Name  Muhammad Muqeet Khan\n"
     ]
    }
   ],
   "source": [
    "f_name = input (\" Entre Your Name \")"
   ]
  },
  {
   "cell_type": "code",
   "execution_count": 40,
   "id": "360894d3-ccca-442c-a370-895551cd8619",
   "metadata": {},
   "outputs": [
    {
     "data": {
      "text/plain": [
       "'Muhammad Muqeet Khan'"
      ]
     },
     "execution_count": 40,
     "metadata": {},
     "output_type": "execute_result"
    }
   ],
   "source": [
    "f_name"
   ]
  },
  {
   "cell_type": "code",
   "execution_count": 41,
   "id": "bd9d403e-c6d2-49c8-9fae-90f1dbb98b0f",
   "metadata": {},
   "outputs": [
    {
     "name": "stdin",
     "output_type": "stream",
     "text": [
      "entre your age 20\n"
     ]
    }
   ],
   "source": [
    "age = input ( \"entre your age\" )"
   ]
  },
  {
   "cell_type": "code",
   "execution_count": 42,
   "id": "258afe16-a536-4865-8a44-1f89c0d13327",
   "metadata": {},
   "outputs": [
    {
     "data": {
      "text/plain": [
       "'20'"
      ]
     },
     "execution_count": 42,
     "metadata": {},
     "output_type": "execute_result"
    }
   ],
   "source": [
    "age"
   ]
  },
  {
   "cell_type": "code",
   "execution_count": 52,
   "id": "2a383716-75a5-4e4c-854f-7bdaab5b5f33",
   "metadata": {},
   "outputs": [
    {
     "name": "stdin",
     "output_type": "stream",
     "text": [
      "entre your age:  20\n"
     ]
    }
   ],
   "source": [
    "age = int(input(\"entre your age: \")) # By Default input() Return string type"
   ]
  },
  {
   "cell_type": "code",
   "execution_count": 53,
   "id": "cf0ab270-630e-4e5f-87b8-0d90705a6716",
   "metadata": {},
   "outputs": [
    {
     "data": {
      "text/plain": [
       "20"
      ]
     },
     "execution_count": 53,
     "metadata": {},
     "output_type": "execute_result"
    }
   ],
   "source": [
    "age"
   ]
  },
  {
   "cell_type": "code",
   "execution_count": 51,
   "id": "81549a0e-deed-4962-98f1-0660578e229e",
   "metadata": {},
   "outputs": [
    {
     "name": "stdin",
     "output_type": "stream",
     "text": [
      "entre your first name:  Muhammad\n",
      "entre your mid name:  Muqeet\n",
      "entre your last name:  Khan\n"
     ]
    }
   ],
   "source": [
    "f_name = input (\"entre your first name: \")\n",
    "m_name = input (\"entre your mid name: \")\n",
    "l_name = input (\"entre your last name: \")"
   ]
  },
  {
   "cell_type": "markdown",
   "id": "ae388ba8-b486-486e-9730-d04697a5eebb",
   "metadata": {},
   "source": [
    "# Conditional Statement"
   ]
  },
  {
   "cell_type": "code",
   "execution_count": 54,
   "id": "d571a483-b892-40ba-80cc-edb27eaa32bc",
   "metadata": {},
   "outputs": [],
   "source": [
    "# 1-if\n",
    "# 2-elif\n",
    "# 3-else"
   ]
  },
  {
   "cell_type": "code",
   "execution_count": 55,
   "id": "4387ae79-3300-4f3c-b2d9-ae8268237c89",
   "metadata": {},
   "outputs": [],
   "source": [
    "Eid = True"
   ]
  },
  {
   "cell_type": "code",
   "execution_count": 57,
   "id": "ec57a45d-82a9-46e2-af2d-178b5890398f",
   "metadata": {},
   "outputs": [
    {
     "name": "stdout",
     "output_type": "stream",
     "text": [
      "Tommoro Is Holiday\n"
     ]
    }
   ],
   "source": [
    "if Eid: #<condition>:\n",
    "    print (\"Tommoro Is Holiday\") #<body>\n",
    "else:\n",
    "    print(\"Tommoro Is Working Day\") #<body>"
   ]
  },
  {
   "cell_type": "markdown",
   "id": "7be46758-a077-4eba-9060-0646131e5739",
   "metadata": {},
   "source": [
    "#Assigment"
   ]
  },
  {
   "cell_type": "code",
   "execution_count": 58,
   "id": "9fad8927-4c9f-4dd0-8493-b8c72b8fbe43",
   "metadata": {},
   "outputs": [],
   "source": [
    "# Tast Make A Program That Tell If Youre Eligible For Certificate Or Not Based On Pass / Fail"
   ]
  },
  {
   "cell_type": "code",
   "execution_count": 68,
   "id": "c598a598-435c-42e7-b87c-f4e5eb84cb2e",
   "metadata": {},
   "outputs": [
    {
     "name": "stdin",
     "output_type": "stream",
     "text": [
      " Entre Your Total Marks:  70\n"
     ]
    },
    {
     "name": "stdout",
     "output_type": "stream",
     "text": [
      "Your Grade Is B\n"
     ]
    }
   ],
   "source": [
    "marks = int(input (\" Entre Your Total Marks: \"))\n",
    "# int float \n",
    "if marks >= 80:\n",
    "    print (\"Your Grade Is A+\")\n",
    "elif marks >= 60:\n",
    "    print (\"Your Grade Is B\")\n",
    "elif marks >=40:\n",
    "    (\"your fail\")\n",
    "else:\n",
    "    print(marks)"
   ]
  },
  {
   "cell_type": "code",
   "execution_count": 71,
   "id": "6081b93b-2c9b-4f80-ae80-3d5fa454eb3c",
   "metadata": {},
   "outputs": [],
   "source": [
    "## Nestes if-else"
   ]
  },
  {
   "cell_type": "code",
   "execution_count": 85,
   "id": "4670174d-dd7e-4c58-8554-52dc0d486edc",
   "metadata": {},
   "outputs": [
    {
     "name": "stdout",
     "output_type": "stream",
     "text": [
      "shop is open\n"
     ]
    },
    {
     "name": "stdin",
     "output_type": "stream",
     "text": [
      "check for rice Not Available\n"
     ]
    },
    {
     "name": "stdout",
     "output_type": "stream",
     "text": [
      "No\n"
     ]
    }
   ],
   "source": [
    "shop_open = True\n",
    "Rice = False\n",
    "\n",
    "if shop_open:\n",
    "    print (\"shop is open\")\n",
    "    Rice = str (input(\"check for rice\"))\n",
    "    if Rice == \"Available\":\n",
    "        print(\"yes\")\n",
    "    elif Rice == \"Not Available\":\n",
    "        print(\"No\")\n",
    "else:\n",
    "    print (\"shop is closed\")"
   ]
  },
  {
   "cell_type": "markdown",
   "id": "3029671f-8e79-4d03-9949-cfa3e2cea73e",
   "metadata": {},
   "source": [
    "##### Write a Program to Check whether a person is eligible for voting or not ( accept age from user ) if age is greater then 17 eligible otherwise not eligible"
   ]
  },
  {
   "cell_type": "code",
   "execution_count": 87,
   "id": "660a4398-6010-4b52-ad04-3a2d8ad35a54",
   "metadata": {},
   "outputs": [
    {
     "name": "stdin",
     "output_type": "stream",
     "text": [
      "entre your age:  18\n"
     ]
    },
    {
     "name": "stdout",
     "output_type": "stream",
     "text": [
      "you're eligible\n"
     ]
    }
   ],
   "source": [
    "age = int(input (\"entre your age: \"))\n",
    "\n",
    "if age > 17:\n",
    "    print(\"you're eligible\")\n",
    "else:\n",
    "    print(\"You're Not Eligible\")"
   ]
  },
  {
   "cell_type": "markdown",
   "id": "4b9f5bbe-efdd-45f4-954a-c20a148c3f96",
   "metadata": {},
   "source": [
    "#### Write a program to check whether a number entered by user is even or odd"
   ]
  },
  {
   "cell_type": "code",
   "execution_count": 89,
   "id": "63f6df78-c6c8-4f5f-a502-8274ce409615",
   "metadata": {},
   "outputs": [
    {
     "name": "stdin",
     "output_type": "stream",
     "text": [
      "Entre Your Number 5\n"
     ]
    },
    {
     "name": "stdout",
     "output_type": "stream",
     "text": [
      "the number is odd\n"
     ]
    }
   ],
   "source": [
    "number = int(input(\"Entre Your Number\"))\n",
    "\n",
    "if number %2==0:\n",
    "     print (\"the number is even\")\n",
    "else:\n",
    "     print (\"the number is odd\")"
   ]
  },
  {
   "cell_type": "code",
   "execution_count": 90,
   "id": "b2d0fc57-40a3-492b-be48-84c251bb0905",
   "metadata": {},
   "outputs": [
    {
     "name": "stdin",
     "output_type": "stream",
     "text": [
      "Entre Your Number 5\n"
     ]
    },
    {
     "name": "stdout",
     "output_type": "stream",
     "text": [
      "the number is odd\n"
     ]
    }
   ],
   "source": [
    "number = int(input(\"Entre Your Number\"))\n",
    "\n",
    "if number %2==0:\n",
    "     print (\"the number is even\")\n",
    "else:\n",
    "     print (\"the number is odd\")"
   ]
  },
  {
   "cell_type": "code",
   "execution_count": 91,
   "id": "2721bb9f-f000-4b89-ab9c-87dfe3e1ba6c",
   "metadata": {},
   "outputs": [
    {
     "name": "stdin",
     "output_type": "stream",
     "text": [
      "entre your number 17\n"
     ]
    },
    {
     "name": "stdout",
     "output_type": "stream",
     "text": [
      "bye\n"
     ]
    }
   ],
   "source": [
    "num = int(input(\"entre your number\"))\n",
    "\n",
    "if num % 5 == 0:\n",
    "    print (\"hello\")\n",
    "else:\n",
    "    print (\"bye\")"
   ]
  },
  {
   "cell_type": "code",
   "execution_count": 92,
   "id": "abadff47-169b-456a-8b21-84212d6a0385",
   "metadata": {},
   "outputs": [],
   "source": [
    "##### Operator:\n",
    "# -- NOT\n",
    "# -- AND\n",
    "# --OR"
   ]
  },
  {
   "cell_type": "markdown",
   "id": "bd347ff7-083a-467a-aa86-efff48976e1c",
   "metadata": {},
   "source": [
    "## Not"
   ]
  },
  {
   "cell_type": "code",
   "execution_count": 93,
   "id": "02e8715c-bff8-4c33-b72d-f821fc696c40",
   "metadata": {},
   "outputs": [
    {
     "data": {
      "text/plain": [
       "False"
      ]
     },
     "execution_count": 93,
     "metadata": {},
     "output_type": "execute_result"
    }
   ],
   "source": [
    "not True"
   ]
  },
  {
   "cell_type": "code",
   "execution_count": 94,
   "id": "aa49d64c-1d3f-4d42-89b7-25628220a1a2",
   "metadata": {},
   "outputs": [
    {
     "data": {
      "text/plain": [
       "True"
      ]
     },
     "execution_count": 94,
     "metadata": {},
     "output_type": "execute_result"
    }
   ],
   "source": [
    "not False"
   ]
  },
  {
   "cell_type": "markdown",
   "id": "62a772ad-f1a3-4ab0-8d11-0ee66c825870",
   "metadata": {},
   "source": [
    "## AND"
   ]
  },
  {
   "cell_type": "code",
   "execution_count": 95,
   "id": "f8dce372-6b28-45f2-877f-bfd3036d2e7d",
   "metadata": {},
   "outputs": [
    {
     "data": {
      "text/plain": [
       "True"
      ]
     },
     "execution_count": 95,
     "metadata": {},
     "output_type": "execute_result"
    }
   ],
   "source": [
    "(7>6) and (3<4) # in and both condition will be true"
   ]
  },
  {
   "cell_type": "markdown",
   "id": "0a258771-3d94-409c-a0e5-e8a4ed95a2b2",
   "metadata": {},
   "source": [
    "## OR"
   ]
  },
  {
   "cell_type": "code",
   "execution_count": 96,
   "id": "c07e154b-9939-42ec-b3f0-89752205de93",
   "metadata": {},
   "outputs": [
    {
     "data": {
      "text/plain": [
       "True"
      ]
     },
     "execution_count": 96,
     "metadata": {},
     "output_type": "execute_result"
    }
   ],
   "source": [
    "(7>6) or (5<4) # in or "
   ]
  },
  {
   "cell_type": "code",
   "execution_count": 97,
   "id": "05ac4e30-3b8f-44e3-80b4-360075b73876",
   "metadata": {},
   "outputs": [],
   "source": [
    "# A School Has Following Rules For Grading System\n",
    "\n",
    "# - Below 25 - F\n",
    "# - 25 to 45 - E\n",
    "# - 45 to 50 - D\n",
    "# - 50 to 60 - C\n",
    "# - 60 to 80 - B\n",
    "# - above 80 - A\n",
    "\n",
    "# Ask User to entre marks and print the corresponding grade"
   ]
  },
  {
   "cell_type": "code",
   "execution_count": 105,
   "id": "56f22e4d-94e8-4581-928f-3a3e59171b44",
   "metadata": {},
   "outputs": [
    {
     "name": "stdin",
     "output_type": "stream",
     "text": [
      "entre your marks 50\n"
     ]
    },
    {
     "name": "stdout",
     "output_type": "stream",
     "text": [
      "your grade is C\n"
     ]
    }
   ],
   "source": [
    "marks = float(input(\"entre your marks\"))\n",
    "\n",
    "if marks >= 0 and marks <25:\n",
    "    print ( \"you're fail\" )\n",
    "elif marks >= 25 and marks <45:\n",
    "    print ( \"your grade is E\")\n",
    "elif marks >= 45 and marks <50:\n",
    "    print ( \"your grade is D\")\n",
    "elif marks >= 50 and marks <60:\n",
    "    print ( \"your grade is C\")\n",
    "elif marks >= 60 and marks <80:\n",
    "    print ( \"your grade is B\")\n",
    "elif marks >= 80 and marks <100:\n",
    "    print ( \"your grade is A\")\n",
    "else:\n",
    "    print (\"invalid\")\n",
    "    "
   ]
  },
  {
   "cell_type": "markdown",
   "id": "add8ea98-9ffd-4441-bb16-8cb959da8aa8",
   "metadata": {},
   "source": [
    "# Comments"
   ]
  },
  {
   "cell_type": "code",
   "execution_count": 106,
   "id": "effab589-6965-4f20-a530-795a993da089",
   "metadata": {},
   "outputs": [],
   "source": [
    "# This Is A Singla Line Comment"
   ]
  },
  {
   "cell_type": "code",
   "execution_count": 107,
   "id": "069da159-e183-4e37-a0cc-d4f5301dcf21",
   "metadata": {},
   "outputs": [
    {
     "name": "stdout",
     "output_type": "stream",
     "text": [
      "muqeet\n"
     ]
    }
   ],
   "source": [
    "\"\"\" This Is The Multi line Comment\n",
    "This Is The Multi Line Comment\n",
    "This Is The Multi Line Comment \"\"\"\n",
    "print (\"muqeet\")"
   ]
  },
  {
   "cell_type": "code",
   "execution_count": 108,
   "id": "1a3037e3-82df-4ee9-84d1-9d76a9f735b5",
   "metadata": {},
   "outputs": [],
   "source": [
    "##Method Of Any Type"
   ]
  },
  {
   "cell_type": "code",
   "execution_count": 109,
   "id": "aa33a124-f46c-4b3e-acf9-cdb227880ef5",
   "metadata": {},
   "outputs": [],
   "source": [
    "str = \" Muqeet Khan \" "
   ]
  },
  {
   "cell_type": "code",
   "execution_count": 112,
   "id": "88c765b7-2706-47f5-bd19-034c00a2705c",
   "metadata": {},
   "outputs": [
    {
     "data": {
      "text/plain": [
       "' Muq'"
      ]
     },
     "execution_count": 112,
     "metadata": {},
     "output_type": "execute_result"
    }
   ],
   "source": [
    "str[0:4]  # Slicing On String Note Silicing is Allways Happen From First to Before the last limit "
   ]
  },
  {
   "cell_type": "code",
   "execution_count": 113,
   "id": "054c41a4-732a-4d16-bb40-cdca1b6e8f86",
   "metadata": {},
   "outputs": [],
   "source": [
    "str2 = \" this is saylani CDE batch-3 class \" "
   ]
  },
  {
   "cell_type": "code",
   "execution_count": 116,
   "id": "acc3d057-9e88-4e99-a5fe-3c8e3f1fdcc0",
   "metadata": {},
   "outputs": [
    {
     "data": {
      "text/plain": [
       "' CDE batch-3 '"
      ]
     },
     "execution_count": 116,
     "metadata": {},
     "output_type": "execute_result"
    }
   ],
   "source": [
    "str2[16:29] # Positive Silicing"
   ]
  },
  {
   "cell_type": "code",
   "execution_count": 118,
   "id": "f0b77dae-ad6f-45bc-9930-612fc0b7a4a1",
   "metadata": {},
   "outputs": [],
   "source": [
    "str3 = \"this is saylani CDE batch-3 class\" "
   ]
  },
  {
   "cell_type": "code",
   "execution_count": 119,
   "id": "6ae650c1-91df-476f-8e13-aeeb05b48557",
   "metadata": {},
   "outputs": [
    {
     "data": {
      "text/plain": [
       "'CDE batch-3'"
      ]
     },
     "execution_count": 119,
     "metadata": {},
     "output_type": "execute_result"
    }
   ],
   "source": [
    "str3 [-17:-6]"
   ]
  },
  {
   "cell_type": "markdown",
   "id": "7d4e2b88-c84a-4a76-a717-d8173897fecd",
   "metadata": {},
   "source": [
    "# Method Of string"
   ]
  },
  {
   "cell_type": "code",
   "execution_count": 111,
   "id": "7d3e30b5-52da-44e1-a468-5f0cc965a524",
   "metadata": {},
   "outputs": [
    {
     "data": {
      "text/plain": [
       "1"
      ]
     },
     "execution_count": 111,
     "metadata": {},
     "output_type": "execute_result"
    }
   ],
   "source": [
    "\"Qasim\".count(\"a\") # sring.count(value, start, end)"
   ]
  },
  {
   "cell_type": "code",
   "execution_count": 121,
   "id": "28e55f90-5a31-4b00-b45e-d9c870ccc8cf",
   "metadata": {},
   "outputs": [
    {
     "data": {
      "text/plain": [
       "'Qasim'"
      ]
     },
     "execution_count": 121,
     "metadata": {},
     "output_type": "execute_result"
    }
   ],
   "source": [
    "\"{}\".format(\"Qasim\")"
   ]
  },
  {
   "cell_type": "code",
   "execution_count": 122,
   "id": "070ff43b-fbf7-415f-b281-5a113f013193",
   "metadata": {},
   "outputs": [
    {
     "data": {
      "text/plain": [
       "'QASIM'"
      ]
     },
     "execution_count": 122,
     "metadata": {},
     "output_type": "execute_result"
    }
   ],
   "source": [
    "\"Qasim\".upper()"
   ]
  },
  {
   "cell_type": "code",
   "execution_count": 123,
   "id": "1056402f-6153-4dad-8385-8735b78e9367",
   "metadata": {},
   "outputs": [
    {
     "data": {
      "text/plain": [
       "'qasim'"
      ]
     },
     "execution_count": 123,
     "metadata": {},
     "output_type": "execute_result"
    }
   ],
   "source": [
    "\"Qasim\".lower()"
   ]
  },
  {
   "cell_type": "code",
   "execution_count": 130,
   "id": "2be389cd-a324-4ee9-a795-e300fb9097c8",
   "metadata": {},
   "outputs": [],
   "source": [
    "name = [\"Qasim\"]\n",
    "name.append(\"Hassan\")"
   ]
  },
  {
   "cell_type": "code",
   "execution_count": 131,
   "id": "7b761189-8522-436e-a432-2b3d1b929066",
   "metadata": {},
   "outputs": [
    {
     "data": {
      "text/plain": [
       "['Qasim', 'Hassan']"
      ]
     },
     "execution_count": 131,
     "metadata": {},
     "output_type": "execute_result"
    }
   ],
   "source": [
    "name"
   ]
  },
  {
   "cell_type": "code",
   "execution_count": 135,
   "id": "946b7e4e-e739-426b-9e45-9352c8154c12",
   "metadata": {},
   "outputs": [
    {
     "name": "stdout",
     "output_type": "stream",
     "text": [
      "['qasim', 'hassan']\n"
     ]
    }
   ],
   "source": [
    "name = \"qasim hassan\"\n",
    "c_name = name.split()\n",
    "print (c_name)"
   ]
  },
  {
   "cell_type": "code",
   "execution_count": null,
   "id": "2f3cbb51-2e2d-48f2-a6d9-70278140f56c",
   "metadata": {},
   "outputs": [],
   "source": []
  }
 ],
 "metadata": {
  "kernelspec": {
   "display_name": "Python 3 (ipykernel)",
   "language": "python",
   "name": "python3"
  },
  "language_info": {
   "codemirror_mode": {
    "name": "ipython",
    "version": 3
   },
   "file_extension": ".py",
   "mimetype": "text/x-python",
   "name": "python",
   "nbconvert_exporter": "python",
   "pygments_lexer": "ipython3",
   "version": "3.13.5"
  }
 },
 "nbformat": 4,
 "nbformat_minor": 5
}
