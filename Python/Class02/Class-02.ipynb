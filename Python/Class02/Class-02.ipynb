{
 "cells": [
  {
   "cell_type": "code",
   "execution_count": null,
   "id": "14702577-e049-474d-be1a-d01c4a3f07b5",
   "metadata": {},
   "outputs": [],
   "source": [
    "# this is a code cell"
   ]
  },
  {
   "cell_type": "code",
   "execution_count": 1,
   "id": "d5c0af8e-a349-42cc-88f6-447fa532d32f",
   "metadata": {},
   "outputs": [
    {
     "name": "stdout",
     "output_type": "stream",
     "text": [
      "hello world\n"
     ]
    }
   ],
   "source": [
    "print (\"hello world\" )"
   ]
  },
  {
   "cell_type": "code",
   "execution_count": 2,
   "id": "36ec4c74-f861-4c84-b9e1-992fd2be5b73",
   "metadata": {},
   "outputs": [],
   "source": [
    "# this is a markdown cell"
   ]
  },
  {
   "cell_type": "markdown",
   "id": "f4272acf-7bce-4ffe-b246-ed6c1b73e835",
   "metadata": {},
   "source": []
  },
  {
   "cell_type": "code",
   "execution_count": null,
   "id": "10007066-1002-48c9-b90d-43d9bd04ac04",
   "metadata": {},
   "outputs": [],
   "source": [
    "# This Is A Raw Cell"
   ]
  },
  {
   "cell_type": "raw",
   "id": "af23e151-0b55-40e7-bc2e-d8d262236812",
   "metadata": {},
   "source": []
  },
  {
   "cell_type": "code",
   "execution_count": 3,
   "id": "e8d14ea8-1adf-4dda-8308-eb949f06205c",
   "metadata": {},
   "outputs": [],
   "source": [
    "# Shortkey For Jupyter"
   ]
  },
  {
   "cell_type": "markdown",
   "id": "90d1a5a9-9c88-4a85-8a53-0dd00a7ef12b",
   "metadata": {},
   "source": [
    "- ESC + M ( To Covert Cell Into Markdown )\n",
    "- ESC + R ( To Covert Cell Into Raw )\n",
    "- ESC + Y ( To Covert Cell Into Code )\n",
    "- #1 .... #6  ( For Level-1  To Level-6 )\n",
    "- ESC + A ( To Create Cell Above The Present Cell )\n",
    "- ESC + B ( To Create Cell Below The Present Cell )\n",
    "- ESC + DD ( To Delete The Cell On Which Your Present )\n",
    "- Shift + Entre ( To Run The Cell And Goto Next Cell )\n",
    "- CTRL + Entre ( To Run The Cell And Not Goto Next Cell )\n",
    "- CTRL + Shift + H ( To Get All Jupyter Notebook Shortcuts )"
   ]
  },
  {
   "cell_type": "code",
   "execution_count": null,
   "id": "cad0d30f-18e3-4ae6-8eff-9e9ea259a176",
   "metadata": {},
   "outputs": [],
   "source": [
    "# Heading Levels"
   ]
  },
  {
   "cell_type": "markdown",
   "id": "2eaf2c23-a799-4206-975b-118ffc9bff36",
   "metadata": {},
   "source": [
    "# Heading Level 1\n",
    "## Heading Level 2\n",
    "### Heading Level 3\n",
    "#### Heading Level 4\n",
    "##### Heading Level 5\n",
    "###### Heading Level 6"
   ]
  },
  {
   "cell_type": "code",
   "execution_count": 8,
   "id": "e2341fe7-a1c2-4a28-94e3-690a2473bdc1",
   "metadata": {},
   "outputs": [],
   "source": [
    "# Variable"
   ]
  },
  {
   "cell_type": "code",
   "execution_count": 9,
   "id": "3a3a38a9-c1bb-49ea-a828-1dc93bf3e208",
   "metadata": {},
   "outputs": [],
   "source": [
    "name = \" Muqeet Kahn \""
   ]
  },
  {
   "cell_type": "code",
   "execution_count": 10,
   "id": "c321e07a-576b-4711-9238-81bc588cffa0",
   "metadata": {},
   "outputs": [
    {
     "data": {
      "text/plain": [
       "' Muqeet Kahn '"
      ]
     },
     "execution_count": 10,
     "metadata": {},
     "output_type": "execute_result"
    }
   ],
   "source": [
    "name # This Is Variable String"
   ]
  },
  {
   "cell_type": "code",
   "execution_count": 11,
   "id": "a806c392-16fd-4b7a-a96b-f19ea14afcd8",
   "metadata": {},
   "outputs": [],
   "source": [
    "age = 20"
   ]
  },
  {
   "cell_type": "code",
   "execution_count": 12,
   "id": "97eba764-82fd-4c5d-a896-53bd716ce1e7",
   "metadata": {},
   "outputs": [
    {
     "data": {
      "text/plain": [
       "20"
      ]
     },
     "execution_count": 12,
     "metadata": {},
     "output_type": "execute_result"
    }
   ],
   "source": [
    "age # This Is Integer"
   ]
  },
  {
   "cell_type": "code",
   "execution_count": 17,
   "id": "becc3d04-09e1-4600-b4e7-4e75142602d5",
   "metadata": {},
   "outputs": [],
   "source": [
    "weight = 49.8"
   ]
  },
  {
   "cell_type": "code",
   "execution_count": 19,
   "id": "997c6bae-3923-4afd-a042-68f238732d29",
   "metadata": {},
   "outputs": [
    {
     "data": {
      "text/plain": [
       "49.8"
      ]
     },
     "execution_count": 19,
     "metadata": {},
     "output_type": "execute_result"
    }
   ],
   "source": [
    "weight # This Is Float"
   ]
  },
  {
   "cell_type": "code",
   "execution_count": 24,
   "id": "4ef8ad40-8c7d-4045-813c-aa66cee68a42",
   "metadata": {},
   "outputs": [],
   "source": [
    "is_present = True"
   ]
  },
  {
   "cell_type": "code",
   "execution_count": 25,
   "id": "7730e0e0-0a4a-470d-8bd7-e6f49c799737",
   "metadata": {},
   "outputs": [
    {
     "data": {
      "text/plain": [
       "True"
      ]
     },
     "execution_count": 25,
     "metadata": {},
     "output_type": "execute_result"
    }
   ],
   "source": [
    "is_present # This Is Bolean"
   ]
  },
  {
   "cell_type": "code",
   "execution_count": 28,
   "id": "bcdbe93e-051e-44a1-aecd-736f2162da6f",
   "metadata": {},
   "outputs": [
    {
     "name": "stdout",
     "output_type": "stream",
     "text": [
      "<class 'str'>\n",
      "<class 'int'>\n",
      "<class 'float'>\n",
      "<class 'bool'>\n"
     ]
    }
   ],
   "source": [
    "# Additional Stuff\n",
    "## 1. type () To Gine You The typr of Variable\n",
    "## 2. id() To Give You The ID Of Variable\n",
    "print (type (name))\n",
    "print (type (age))\n",
    "print (type (weight))\n",
    "print (type (is_present))"
   ]
  },
  {
   "cell_type": "code",
   "execution_count": 29,
   "id": "3cf13ee7-af4d-45aa-a700-6dbfe1720497",
   "metadata": {},
   "outputs": [],
   "source": [
    "# OPERATOR"
   ]
  },
  {
   "cell_type": "code",
   "execution_count": 30,
   "id": "5e7e7153-ca29-4841-9860-651d12b5320d",
   "metadata": {},
   "outputs": [
    {
     "data": {
      "text/plain": [
       "7"
      ]
     },
     "execution_count": 30,
     "metadata": {},
     "output_type": "execute_result"
    }
   ],
   "source": [
    "# Addition\n",
    "2+5"
   ]
  },
  {
   "cell_type": "code",
   "execution_count": 31,
   "id": "6742d3d8-3820-4eb6-a83e-254ab7e2e22c",
   "metadata": {},
   "outputs": [
    {
     "data": {
      "text/plain": [
       "2"
      ]
     },
     "execution_count": 31,
     "metadata": {},
     "output_type": "execute_result"
    }
   ],
   "source": [
    "# Subtraction\n",
    "5-3"
   ]
  },
  {
   "cell_type": "code",
   "execution_count": 32,
   "id": "0593282d-6b2b-4f7c-8963-3c27f2a4fd9a",
   "metadata": {},
   "outputs": [
    {
     "data": {
      "text/plain": [
       "8"
      ]
     },
     "execution_count": 32,
     "metadata": {},
     "output_type": "execute_result"
    }
   ],
   "source": [
    "# Multiplication\n",
    "2*4"
   ]
  },
  {
   "cell_type": "code",
   "execution_count": 33,
   "id": "fc9f9f93-ae21-41c4-939a-87c9a56f121c",
   "metadata": {},
   "outputs": [
    {
     "data": {
      "text/plain": [
       "0.2"
      ]
     },
     "execution_count": 33,
     "metadata": {},
     "output_type": "execute_result"
    }
   ],
   "source": [
    "# Divide\n",
    "2/10"
   ]
  },
  {
   "cell_type": "code",
   "execution_count": 38,
   "id": "a2d47d95-b950-4650-b0b2-9e66f602a307",
   "metadata": {},
   "outputs": [
    {
     "data": {
      "text/plain": [
       "3"
      ]
     },
     "execution_count": 38,
     "metadata": {},
     "output_type": "execute_result"
    }
   ],
   "source": [
    "# Floor Operator\n",
    "7//2"
   ]
  },
  {
   "cell_type": "code",
   "execution_count": 37,
   "id": "7854b6a2-e31a-4f51-b7de-59042e25dbe7",
   "metadata": {},
   "outputs": [
    {
     "data": {
      "text/plain": [
       "64"
      ]
     },
     "execution_count": 37,
     "metadata": {},
     "output_type": "execute_result"
    }
   ],
   "source": [
    "# Power\n",
    "2**6"
   ]
  },
  {
   "cell_type": "code",
   "execution_count": 39,
   "id": "bd351b96-0fde-4e37-9249-1d232922f43e",
   "metadata": {},
   "outputs": [],
   "source": [
    "# EXPRESSION"
   ]
  },
  {
   "cell_type": "markdown",
   "id": "615a0840-a1f0-4a76-a8fd-3a642b230813",
   "metadata": {},
   "source": [
    "##### PEMDAS --> \n",
    "Paranthesis, \n",
    "Exprnential ( Power ), \n",
    "Multiplication, \n",
    "Division, \n",
    "Addition, \n",
    "Subtraction"
   ]
  },
  {
   "cell_type": "raw",
   "id": "25803ff8-496e-422c-8924-e31f0cdc870b",
   "metadata": {},
   "source": [
    "=(2-3)-(4-3)-4/5\n",
    "= 1-1-4/5 --> Solved Paranthesis\n",
    "= -1-1-0.8 --> Solved Division\n",
    "= -2.8 --> Solved Addition"
   ]
  },
  {
   "cell_type": "code",
   "execution_count": 40,
   "id": "5b99cacc-dac7-4fc0-8462-f147cda760d9",
   "metadata": {},
   "outputs": [
    {
     "data": {
      "text/plain": [
       "65.8"
      ]
     },
     "execution_count": 40,
     "metadata": {},
     "output_type": "execute_result"
    }
   ],
   "source": [
    "(((4+5)**2)*4)/5+(3-2)"
   ]
  },
  {
   "cell_type": "raw",
   "id": "e87e5862-8ad1-4a43-a7c5-f98dea655db1",
   "metadata": {},
   "source": [
    "# Advance OPERATORS\n",
    "- +=\n",
    "- -=\n",
    "- /=\n",
    "- *="
   ]
  },
  {
   "cell_type": "code",
   "execution_count": 44,
   "id": "a2978f1d-9ea8-4e67-810d-af637f23dde6",
   "metadata": {},
   "outputs": [],
   "source": [
    "Num_1 = 5\n",
    "Num_2 = 5"
   ]
  },
  {
   "cell_type": "code",
   "execution_count": 46,
   "id": "4592f126-0295-452c-992b-1dcd66288632",
   "metadata": {},
   "outputs": [],
   "source": [
    "Num_1 += Num_2"
   ]
  },
  {
   "cell_type": "code",
   "execution_count": 47,
   "id": "65fd8d66-688a-408d-a1c3-04b882c79fe4",
   "metadata": {},
   "outputs": [
    {
     "data": {
      "text/plain": [
       "15"
      ]
     },
     "execution_count": 47,
     "metadata": {},
     "output_type": "execute_result"
    }
   ],
   "source": [
    "Num_1"
   ]
  },
  {
   "cell_type": "code",
   "execution_count": 3,
   "id": "d831357f-7778-47b5-a71f-dbe82d7b7fa4",
   "metadata": {},
   "outputs": [
    {
     "ename": "NameError",
     "evalue": "name 'Num_1' is not defined",
     "output_type": "error",
     "traceback": [
      "\u001b[1;31m---------------------------------------------------------------------------\u001b[0m",
      "\u001b[1;31mNameError\u001b[0m                                 Traceback (most recent call last)",
      "Cell \u001b[1;32mIn[3], line 1\u001b[0m\n\u001b[1;32m----> 1\u001b[0m Num_1 \u001b[38;5;241m-\u001b[39m\u001b[38;5;241m=\u001b[39m Num_2\n",
      "\u001b[1;31mNameError\u001b[0m: name 'Num_1' is not defined"
     ]
    }
   ],
   "source": [
    "Num_1 -= Num_2"
   ]
  },
  {
   "cell_type": "code",
   "execution_count": 49,
   "id": "4a446dfe-5fae-4752-9038-53ac32818e7b",
   "metadata": {},
   "outputs": [
    {
     "data": {
      "text/plain": [
       "15"
      ]
     },
     "execution_count": 49,
     "metadata": {},
     "output_type": "execute_result"
    }
   ],
   "source": [
    "Num_1"
   ]
  },
  {
   "cell_type": "code",
   "execution_count": null,
   "id": "99d4017f-5d62-41e3-b041-033d00cd4681",
   "metadata": {},
   "outputs": [],
   "source": []
  },
  {
   "cell_type": "code",
   "execution_count": null,
   "id": "966e6fe1-14cd-4498-af0c-d480d5872d01",
   "metadata": {},
   "outputs": [],
   "source": []
  },
  {
   "cell_type": "code",
   "execution_count": null,
   "id": "603af258-0404-4b3f-9572-eccdf0282201",
   "metadata": {},
   "outputs": [],
   "source": []
  },
  {
   "cell_type": "code",
   "execution_count": null,
   "id": "a5acf0f1-ae47-4be9-8840-cff17c32366a",
   "metadata": {},
   "outputs": [],
   "source": []
  },
  {
   "cell_type": "code",
   "execution_count": null,
   "id": "3b030062-07bd-4da7-b4dd-e7352c02df1e",
   "metadata": {},
   "outputs": [],
   "source": []
  },
  {
   "cell_type": "raw",
   "id": "e6a73292-9fb3-4c1b-9e6d-1ade4032f0fa",
   "metadata": {},
   "source": [
    "# Advance Operator\n",
    "- >\n",
    "- <\n",
    "- >=\n",
    "- <=\n",
    "- <> or !=\n",
    "- == "
   ]
  },
  {
   "cell_type": "code",
   "execution_count": 51,
   "id": "bb46927c-d559-4245-933d-a2ab956dbd0b",
   "metadata": {},
   "outputs": [
    {
     "data": {
      "text/plain": [
       "True"
      ]
     },
     "execution_count": 51,
     "metadata": {},
     "output_type": "execute_result"
    }
   ],
   "source": [
    "15 > 10"
   ]
  },
  {
   "cell_type": "code",
   "execution_count": 53,
   "id": "42e942e0-5b2a-4bb6-8079-cb04349e6278",
   "metadata": {},
   "outputs": [
    {
     "data": {
      "text/plain": [
       "False"
      ]
     },
     "execution_count": 53,
     "metadata": {},
     "output_type": "execute_result"
    }
   ],
   "source": [
    "15 < 10"
   ]
  },
  {
   "cell_type": "code",
   "execution_count": 54,
   "id": "e6cb0200-cf19-45c1-8d8d-1a0b2d7473e3",
   "metadata": {},
   "outputs": [
    {
     "data": {
      "text/plain": [
       "True"
      ]
     },
     "execution_count": 54,
     "metadata": {},
     "output_type": "execute_result"
    }
   ],
   "source": [
    "5 == 5"
   ]
  },
  {
   "cell_type": "code",
   "execution_count": 55,
   "id": "95beae4f-2859-403c-a70e-8c6b398eabdd",
   "metadata": {},
   "outputs": [
    {
     "data": {
      "text/plain": [
       "False"
      ]
     },
     "execution_count": 55,
     "metadata": {},
     "output_type": "execute_result"
    }
   ],
   "source": [
    "5 >= 6"
   ]
  },
  {
   "cell_type": "code",
   "execution_count": 56,
   "id": "85c78258-22c3-46c8-96e0-37e42769e6d1",
   "metadata": {},
   "outputs": [
    {
     "data": {
      "text/plain": [
       "True"
      ]
     },
     "execution_count": 56,
     "metadata": {},
     "output_type": "execute_result"
    }
   ],
   "source": [
    "5 <= 6"
   ]
  },
  {
   "cell_type": "code",
   "execution_count": 57,
   "id": "d51cd0c6-a70e-407c-93f0-dd9a49d00a57",
   "metadata": {},
   "outputs": [
    {
     "data": {
      "text/plain": [
       "False"
      ]
     },
     "execution_count": 57,
     "metadata": {},
     "output_type": "execute_result"
    }
   ],
   "source": [
    "5 != 5"
   ]
  },
  {
   "attachments": {
    "88262f10-c458-476c-bd27-e47f0c15d30c.png": {
     "image/png": "[encoded data removed]"
    }
   },
   "cell_type": "markdown",
   "id": "8ceeab4c-bda9-468f-b7ce-8eb3985ff3c1",
   "metadata": {},
   "source": [
    "![image.png](attachment:88262f10-c458-476c-bd27-e47f0c15d30c.png)"
   ]
  },
  {
   "cell_type": "code",
   "execution_count": 58,
   "id": "12ee3dcc-29a5-4ac5-a898-0fc64377c51a",
   "metadata": {},
   "outputs": [
    {
     "ename": "SyntaxError",
     "evalue": "invalid syntax (3191493254.py, line 1)",
     "output_type": "error",
     "traceback": [
      "\u001b[1;36m  Cell \u001b[1;32mIn[58], line 1\u001b[1;36m\u001b[0m\n\u001b[1;33m    1 <> 1 # this operator is been used in older version\u001b[0m\n\u001b[1;37m      ^\u001b[0m\n\u001b[1;31mSyntaxError\u001b[0m\u001b[1;31m:\u001b[0m invalid syntax\n"
     ]
    }
   ],
   "source": [
    "1 <> 1 # this operator is been used in older version "
   ]
  },
  {
   "cell_type": "code",
   "execution_count": 59,
   "id": "8f683ad3-f166-4675-bb1e-2626ab0f1715",
   "metadata": {},
   "outputs": [],
   "source": [
    "# Variable Name Legal And Illegal"
   ]
  },
  {
   "attachments": {
    "6383ca26-ce5d-481e-bd27-7f66b23b8ffe.png": {
     "image/png": "[encoded data removed]"
    }
   },
   "cell_type": "markdown",
   "id": "5c43e78c-288e-4382-8949-c46a59a41e39",
   "metadata": {},
   "source": [
    "![image.png](attachment:6383ca26-ce5d-481e-bd27-7f66b23b8ffe.png)"
   ]
  },
  {
   "cell_type": "code",
   "execution_count": null,
   "id": "37ec63da-238e-422f-a1e8-6fe770e9780d",
   "metadata": {},
   "outputs": [],
   "source": [
    "# Wrong"
   ]
  },
  {
   "cell_type": "code",
   "execution_count": null,
   "id": "c40f3925-2772-4793-8f5c-da28b555a57d",
   "metadata": {},
   "outputs": [],
   "source": [
    "print = \"Muqeet Khan\""
   ]
  },
  {
   "cell_type": "code",
   "execution_count": 61,
   "id": "7d5f1bef-ecb7-4721-a3b9-781e6a4c564b",
   "metadata": {},
   "outputs": [
    {
     "data": {
      "text/plain": [
       "'Muqeet Khan'"
      ]
     },
     "execution_count": 61,
     "metadata": {},
     "output_type": "execute_result"
    }
   ],
   "source": [
    "print"
   ]
  },
  {
   "cell_type": "code",
   "execution_count": 62,
   "id": "d5b9117c-8c22-42c9-854b-6f7e56a5d095",
   "metadata": {},
   "outputs": [],
   "source": [
    "# Right"
   ]
  },
  {
   "cell_type": "code",
   "execution_count": 1,
   "id": "ae3d98a1-b499-4843-b4e5-bd5d664359fe",
   "metadata": {},
   "outputs": [],
   "source": [
    "name = \" Muqeet khan \""
   ]
  },
  {
   "cell_type": "code",
   "execution_count": 2,
   "id": "88e8a052-ffc2-48e0-831e-8431f6fe54d1",
   "metadata": {},
   "outputs": [
    {
     "name": "stdout",
     "output_type": "stream",
     "text": [
      " Muqeet khan \n"
     ]
    }
   ],
   "source": [
    "print(name)"
   ]
  },
  {
   "cell_type": "code",
   "execution_count": 4,
   "id": "83fcc895-4ee5-40b2-9745-40ccb51a087f",
   "metadata": {},
   "outputs": [],
   "source": [
    "# Concatenating Text String"
   ]
  },
  {
   "cell_type": "code",
   "execution_count": 5,
   "id": "e0a35ac0-72b6-4725-9e89-f2857b4c5c49",
   "metadata": {},
   "outputs": [],
   "source": [
    "f_name = \"muqeet\""
   ]
  },
  {
   "cell_type": "code",
   "execution_count": 6,
   "id": "2df9a2f8-e816-4bb7-98ea-10174a656d40",
   "metadata": {},
   "outputs": [],
   "source": [
    "l_name = \"khan\""
   ]
  },
  {
   "cell_type": "code",
   "execution_count": 11,
   "id": "61a96d5b-d9b3-4d46-a176-c3eea73ae364",
   "metadata": {},
   "outputs": [],
   "source": [
    "full_name = f_name + \" \" + l_name #Method 1 Using Operator"
   ]
  },
  {
   "cell_type": "code",
   "execution_count": 12,
   "id": "3aa3270d-a6ec-495c-977f-2b748c29cc09",
   "metadata": {},
   "outputs": [
    {
     "data": {
      "text/plain": [
       "'muqeet khan'"
      ]
     },
     "execution_count": 12,
     "metadata": {},
     "output_type": "execute_result"
    }
   ],
   "source": [
    "full_name"
   ]
  },
  {
   "cell_type": "code",
   "execution_count": 15,
   "id": "37932397-7342-4f32-b316-b92da470ecc8",
   "metadata": {},
   "outputs": [],
   "source": [
    "full_name = f\"{f_name} {l_name}\" # Method 2 Using F-String"
   ]
  },
  {
   "cell_type": "code",
   "execution_count": 17,
   "id": "fc902d07-19e9-44bf-81ea-1392dce96fc2",
   "metadata": {},
   "outputs": [
    {
     "data": {
      "text/plain": [
       "'muqeet khan'"
      ]
     },
     "execution_count": 17,
     "metadata": {},
     "output_type": "execute_result"
    }
   ],
   "source": [
    "full_name"
   ]
  },
  {
   "cell_type": "code",
   "execution_count": 18,
   "id": "0c5f80c6-00fb-4d90-a128-182a5b254df5",
   "metadata": {},
   "outputs": [],
   "source": [
    "full_name = \"{0} {1}\" .format (f_name, l_name) # Method 3 Usin .format"
   ]
  },
  {
   "cell_type": "code",
   "execution_count": 19,
   "id": "1578e79b-fbe6-4c04-8e0e-01cdfe4868d2",
   "metadata": {},
   "outputs": [
    {
     "data": {
      "text/plain": [
       "'muqeet khan'"
      ]
     },
     "execution_count": 19,
     "metadata": {},
     "output_type": "execute_result"
    }
   ],
   "source": [
    "full_name"
   ]
  },
  {
   "cell_type": "code",
   "execution_count": null,
   "id": "cc684869-16fe-4a54-8734-31bf9fecf81a",
   "metadata": {},
   "outputs": [],
   "source": []
  }
 ],
 "metadata": {
  "kernelspec": {
   "display_name": "Python 3 (ipykernel)",
   "language": "python",
   "name": "python3"
  },
  "language_info": {
   "codemirror_mode": {
    "name": "ipython",
    "version": 3
   },
   "file_extension": ".py",
   "mimetype": "text/x-python",
   "name": "python",
   "nbconvert_exporter": "python",
   "pygments_lexer": "ipython3",
   "version": "3.13.5"
  }
 },
 "nbformat": 4,
 "nbformat_minor": 5
}
